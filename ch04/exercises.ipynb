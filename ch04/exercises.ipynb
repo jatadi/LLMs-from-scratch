{
 "cells": [
  {
   "cell_type": "markdown",
   "metadata": {},
   "source": [
    "# Chapter 4 Exercises\n",
    "\n",
    "Solutions to the exercises from Chapter 4 "
   ]
  },
  {
   "cell_type": "code",
   "execution_count": 10,
   "metadata": {},
   "outputs": [],
   "source": [
    "import os\n",
    "import sys\n",
    "\n",
    "current_dir = os.getcwd()\n",
    "\n",
    "main_chapter_code_dir = os.path.join(current_dir, \"01_main-chapter-code\")\n",
    "if main_chapter_code_dir not in sys.path:\n",
    "    sys.path.append(main_chapter_code_dir)\n",
    "\n"
   ]
  },
  {
   "cell_type": "markdown",
   "metadata": {},
   "source": [
    "## Exercise 4.1: Parameters in the feed forward versus attention module\n",
    "\n",
    "Analyze and compare the number of parameters in the feed-forward and attention modules of a transformer block."
   ]
  },
  {
   "cell_type": "code",
   "execution_count": 11,
   "metadata": {},
   "outputs": [
    {
     "name": "stdout",
     "output_type": "stream",
     "text": [
      "TransformerBlock(\n",
      "  (att): MultiHeadAttention(\n",
      "    (W_query): Linear(in_features=768, out_features=768, bias=False)\n",
      "    (W_key): Linear(in_features=768, out_features=768, bias=False)\n",
      "    (W_value): Linear(in_features=768, out_features=768, bias=False)\n",
      "    (out_proj): Linear(in_features=768, out_features=768, bias=True)\n",
      "    (dropout): Dropout(p=0.1, inplace=False)\n",
      "  )\n",
      "  (ff): FeedForward(\n",
      "    (layers): Sequential(\n",
      "      (0): Linear(in_features=768, out_features=3072, bias=True)\n",
      "      (1): GELU()\n",
      "      (2): Linear(in_features=3072, out_features=768, bias=True)\n",
      "    )\n",
      "  )\n",
      "  (norm1): LayerNorm()\n",
      "  (norm2): LayerNorm()\n",
      "  (drop_shortcut): Dropout(p=0.1, inplace=False)\n",
      ")\n"
     ]
    }
   ],
   "source": [
    "from gpt import TransformerBlock\n",
    "\n",
    "GPT_CONFIG_124M = {\n",
    "    \"vocab_size\": 50257,\n",
    "    \"context_length\": 1024,\n",
    "    \"emb_dim\": 768,\n",
    "    \"n_heads\": 12,\n",
    "    \"n_layers\": 12,\n",
    "    \"drop_rate\": 0.1,\n",
    "    \"qkv_bias\": False\n",
    "}\n",
    "\n",
    "block = TransformerBlock(GPT_CONFIG_124M)\n",
    "print(block)"
   ]
  },
  {
   "cell_type": "code",
   "execution_count": 12,
   "metadata": {},
   "outputs": [
    {
     "name": "stdout",
     "output_type": "stream",
     "text": [
      "Total number of parameters in feed forward module: 4,722,432\n"
     ]
    }
   ],
   "source": [
    "# Count parameters in feed forward module\n",
    "total_ff_params = sum(p.numel() for p in block.ff.parameters())\n",
    "print(f\"Total number of parameters in feed forward module: {total_ff_params:,}\")"
   ]
  },
  {
   "cell_type": "code",
   "execution_count": 13,
   "metadata": {},
   "outputs": [
    {
     "name": "stdout",
     "output_type": "stream",
     "text": [
      "Total number of parameters in attention module: 2,360,064\n"
     ]
    }
   ],
   "source": [
    "# Count parameters in attention module\n",
    "total_att_params = sum(p.numel() for p in block.att.parameters())\n",
    "print(f\"Total number of parameters in attention module: {total_att_params:,}\")"
   ]
  },
  {
   "cell_type": "markdown",
   "metadata": {},
   "source": [
    "### Mathematical Breakdown\n",
    "\n",
    "Feed forward module (emb_dim=768):\n",
    "- 1st Linear layer: 768 × (4×768) + 4×768 bias = 2,362,368\n",
    "- 2nd Linear layer: (4×768) × 768 + 768 bias = 2,360,064\n",
    "- Total: 4,722,432\n",
    "\n",
    "Attention module:\n",
    "- W_query: 768 × 768 = 589,824\n",
    "- W_key: 768 × 768 = 589,824\n",
    "- W_value: 768 × 768 = 589,824\n",
    "- out_proj: 768 × 768 + 768 bias = 590,592\n",
    "- Total: 2,360,064"
   ]
  },
  {
   "cell_type": "markdown",
   "metadata": {},
   "source": [
    "## Exercise 4.2: Initialize larger GPT models\n",
    "\n",
    "Implement a function to create configurations for different GPT-2 model sizes."
   ]
  },
  {
   "cell_type": "code",
   "execution_count": 14,
   "metadata": {},
   "outputs": [],
   "source": [
    "def get_config(base_config, model_name=\"gpt2-small\"):\n",
    "    GPT_CONFIG = base_config.copy()\n",
    "    \n",
    "    if model_name == \"gpt2-small\":\n",
    "        GPT_CONFIG[\"emb_dim\"] = 768\n",
    "        GPT_CONFIG[\"n_layers\"] = 12\n",
    "        GPT_CONFIG[\"n_heads\"] = 12\n",
    "        \n",
    "    elif model_name == \"gpt2-medium\":\n",
    "        GPT_CONFIG[\"emb_dim\"] = 1024\n",
    "        GPT_CONFIG[\"n_layers\"] = 24\n",
    "        GPT_CONFIG[\"n_heads\"] = 16\n",
    "        \n",
    "    elif model_name == \"gpt2-large\":\n",
    "        GPT_CONFIG[\"emb_dim\"] = 1280\n",
    "        GPT_CONFIG[\"n_layers\"] = 36\n",
    "        GPT_CONFIG[\"n_heads\"] = 20\n",
    "        \n",
    "    elif model_name == \"gpt2-xl\":\n",
    "        GPT_CONFIG[\"emb_dim\"] = 1600\n",
    "        GPT_CONFIG[\"n_layers\"] = 48\n",
    "        GPT_CONFIG[\"n_heads\"] = 25\n",
    "        \n",
    "    return GPT_CONFIG"
   ]
  },
  {
   "cell_type": "code",
   "execution_count": 15,
   "metadata": {},
   "outputs": [
    {
     "name": "stdout",
     "output_type": "stream",
     "text": [
      "\n",
      "gpt2-small configuration:\n",
      "Embedding dimension: 768\n",
      "Number of layers: 12\n",
      "Number of attention heads: 12\n",
      "\n",
      "gpt2-medium configuration:\n",
      "Embedding dimension: 1024\n",
      "Number of layers: 24\n",
      "Number of attention heads: 16\n",
      "\n",
      "gpt2-large configuration:\n",
      "Embedding dimension: 1280\n",
      "Number of layers: 36\n",
      "Number of attention heads: 20\n",
      "\n",
      "gpt2-xl configuration:\n",
      "Embedding dimension: 1600\n",
      "Number of layers: 48\n",
      "Number of attention heads: 25\n"
     ]
    }
   ],
   "source": [
    "# Test the configurations\n",
    "models = [\"gpt2-small\", \"gpt2-medium\", \"gpt2-large\", \"gpt2-xl\"]\n",
    "\n",
    "for model in models:\n",
    "    config = get_config(GPT_CONFIG_124M, model)\n",
    "    print(f\"\\n{model} configuration:\")\n",
    "    print(f\"Embedding dimension: {config['emb_dim']}\")\n",
    "    print(f\"Number of layers: {config['n_layers']}\")\n",
    "    print(f\"Number of attention heads: {config['n_heads']}\")"
   ]
  },
  {
   "cell_type": "markdown",
   "metadata": {},
   "source": [
    "## Exercise 4.3: Implement a custom attention mask\n",
    "\n",
    "In this exercise, we'll implement a custom attention mask that allows tokens to attend to their immediate neighbors only (one token to the left and right)."
   ]
  },
  {
   "cell_type": "code",
   "execution_count": 16,
   "metadata": {},
   "outputs": [],
   "source": [
    "def create_neighbor_mask(seq_length):\n",
    "    \"\"\"Create a mask where each token can only attend to its immediate neighbors.\n",
    "    \n",
    "    Args:\n",
    "        seq_length (int): Length of the sequence\n",
    "        \n",
    "    Returns:\n",
    "        torch.Tensor: A binary mask of shape (seq_length, seq_length)\n",
    "    \"\"\"\n",
    "    # Create a matrix of indices\n",
    "    indices = torch.arange(seq_length)\n",
    "    \n",
    "    # Create matrices of row and column indices\n",
    "    row_indices = indices.unsqueeze(1).expand(seq_length, seq_length)\n",
    "    col_indices = indices.unsqueeze(0).expand(seq_length, seq_length)\n",
    "    \n",
    "    # Create the neighbor mask\n",
    "    mask = (row_indices - col_indices).abs() <= 1\n",
    "    \n",
    "    return mask"
   ]
  },
  {
   "cell_type": "code",
   "execution_count": 17,
   "metadata": {},
   "outputs": [
    {
     "name": "stdout",
     "output_type": "stream",
     "text": [
      "Neighbor mask for sequence length 5:\n",
      "tensor([[1, 1, 0, 0, 0],\n",
      "        [1, 1, 1, 0, 0],\n",
      "        [0, 1, 1, 1, 0],\n",
      "        [0, 0, 1, 1, 1],\n",
      "        [0, 0, 0, 1, 1]], dtype=torch.int32)\n"
     ]
    }
   ],
   "source": [
    "# Test the neighbor mask\n",
    "seq_length = 5\n",
    "mask = create_neighbor_mask(seq_length)\n",
    "print(\"Neighbor mask for sequence length 5:\")\n",
    "print(mask.int())  # Convert to integers for better visualization"
   ]
  }
 ],
 "metadata": {
  "kernelspec": {
   "display_name": "dl-fundamentals",
   "language": "python",
   "name": "python3"
  },
  "language_info": {
   "codemirror_mode": {
    "name": "ipython",
    "version": 3
   },
   "file_extension": ".py",
   "mimetype": "text/x-python",
   "name": "python",
   "nbconvert_exporter": "python",
   "pygments_lexer": "ipython3",
   "version": "3.9.21"
  }
 },
 "nbformat": 4,
 "nbformat_minor": 2
}
